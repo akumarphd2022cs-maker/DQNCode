{
 "cells": [
  {
   "cell_type": "code",
   "execution_count": 1,
   "id": "ac7fbeef",
   "metadata": {},
   "outputs": [],
   "source": [
    "import numpy as np\n",
    "import pandas as pd\n",
    "import matplotlib.pyplot as plt\n",
    "import time\n",
    "\n",
    "from sklearn.preprocessing import LabelEncoder, OneHotEncoder, StandardScaler\n",
    "from sklearn.model_selection import train_test_split\n",
    "from sklearn import metrics\n",
    "from sklearn.ensemble import RandomForestClassifier\n",
    "from sklearn.metrics import (\n",
    "    accuracy_score, precision_score, recall_score, f1_score,\n",
    "    cohen_kappa_score, roc_auc_score, confusion_matrix, matthews_corrcoef\n",
    ")\n",
    "\n",
    "import tensorflow as tf\n",
    "from tensorflow.keras.utils import to_categorical\n",
    "from tensorflow.keras.models import Sequential, Model\n",
    "from tensorflow.keras.layers import (\n",
    "    Dense, Dropout, Flatten, Conv2D, Conv1D, MaxPooling2D, MaxPooling1D,\n",
    "    AveragePooling1D, BatchNormalization, SpatialDropout1D, LSTM, ReLU,\n",
    "    Input, Concatenate, Attention\n",
    ")\n",
    "from tensorflow.keras.optimizers import Adam\n",
    "from tensorflow.keras.callbacks import EarlyStopping, ReduceLROnPlateau\n",
    "from tensorflow.keras import regularizers, layers, models\n"
   ]
  },
  {
   "cell_type": "code",
   "execution_count": null,
   "id": "54422ecd",
   "metadata": {},
   "outputs": [],
   "source": []
  },
  {
   "cell_type": "code",
   "execution_count": 3,
   "id": "8acf2877",
   "metadata": {},
   "outputs": [],
   "source": [
    "\n",
    "# In retrain_models_for_fold function, add:\n",
    "early_stop = EarlyStopping(\n",
    "    monitor='val_loss',\n",
    "    patience=5,  # Stop if no improvement for 5 epochs\n",
    "    restore_best_weights=True,\n",
    "    verbose=0\n",
    ")"
   ]
  },
  {
   "cell_type": "code",
   "execution_count": 4,
   "id": "9dbfb54b",
   "metadata": {},
   "outputs": [],
   "source": []
  },
  {
   "cell_type": "code",
   "execution_count": 5,
   "id": "2d4d77d0",
   "metadata": {},
   "outputs": [],
   "source": [
    "from sklearn.model_selection import train_test_split\n",
    "from sklearn.preprocessing import StandardScaler\n",
    "import pandas as pd\n",
    "\n",
    "# Load the datasets\n",
    "dataset_1_group_1 = pd.read_csv('Layer 2 Training EBE.csv')   # Load the first dataset for Group 1\n",
    "dataset_2_group_1 = pd.read_csv('Layer 2 Test EBE.csv')  # Load the second dataset (external validation) for Group 1\n",
    "\n",
    "dataset_1_group_2 = pd.read_csv('Layer 2 Train PPSC .csv')  # Load the first dataset for Group 2\n",
    "dataset_2_group_2 = pd.read_csv('Layer 2 Test PPSC.csv')  # Load the second dataset (external validation) for Group 2\n",
    "\n",
    "dataset_1_group_3 = pd.read_csv('Layer 2 Training SBE.csv')  # Load the first dataset for Group 3\n",
    "dataset_2_group_3 = pd.read_csv('Layer 2 Test SBE.csv')  # Load the second dataset (external validation) for Group 3\n",
    "\n",
    "# Splitting the datasets into train-test parts (80-20 split)\n",
    "X_train_1, X_test_1, y_train_1, y_test_1 = train_test_split(dataset_1_group_1.iloc[:, :-1], dataset_1_group_1.iloc[:, -1], test_size=0.1, random_state=42)\n",
    "X_train_2, X_test_2, y_train_2, y_test_2 = train_test_split(dataset_1_group_2.iloc[:, :-1], dataset_1_group_2.iloc[:, -1], test_size=0.1, random_state=42)\n",
    "X_train_3, X_test_3, y_train_3, y_test_3 = train_test_split(dataset_1_group_3.iloc[:, :-1], dataset_1_group_3.iloc[:, -1], test_size=0.1, random_state=42)\n",
    "\n",
    "# Preparing external validation datasets\n",
    "X_external_1, y_external_1 = dataset_2_group_1.iloc[:, :-1], dataset_2_group_1.iloc[:, -1]\n",
    "X_external_2, y_external_2 = dataset_2_group_2.iloc[:, :-1], dataset_2_group_2.iloc[:, -1]\n",
    "X_external_3, y_external_3 = dataset_2_group_3.iloc[:, :-1], dataset_2_group_3.iloc[:, -1]\n",
    "\n",
    "# Initialize StandardScaler\n",
    "scaler_1 = StandardScaler()\n",
    "scaler_2 = StandardScaler()\n",
    "scaler_3 = StandardScaler()\n",
    "\n",
    "# Standardize the datasets for Group 1\n",
    "X_train_1 = scaler_1.fit_transform(X_train_1)\n",
    "X_test_1 = scaler_1.transform(X_test_1)\n",
    "X_external_1 = scaler_1.transform(X_external_1)\n",
    "\n",
    "# Standardize the datasets for Group 2\n",
    "X_train_2 = scaler_2.fit_transform(X_train_2)\n",
    "X_test_2 = scaler_2.transform(X_test_2)\n",
    "X_external_2 = scaler_2.transform(X_external_2)\n",
    "\n",
    "# Standardize the datasets for Group 3\n",
    "X_train_3 = scaler_3.fit_transform(X_train_3)\n",
    "X_test_3 = scaler_3.transform(X_test_3)\n",
    "X_external_3 = scaler_3.transform(X_external_3)\n",
    "\n",
    "# Organize datasets for each group of models\n",
    "datasets = [\n",
    "    (X_train_1, X_test_1, y_train_1, y_test_1, X_external_1, y_external_1),  # Group 1\n",
    "    (X_train_2, X_test_2, y_train_2, y_test_2, X_external_2, y_external_2),  # Group 2\n",
    "    (X_train_3, X_test_3, y_train_3, y_test_3, X_external_3, y_external_3)   # Group 3\n",
    "]\n",
    "\n",
    "# Now `datasets` contains standardized datasets for all groups.\n"
   ]
  },
  {
   "cell_type": "code",
   "execution_count": 6,
   "id": "a420b5fd",
   "metadata": {},
   "outputs": [
    {
     "name": "stdout",
     "output_type": "stream",
     "text": [
      "Group 1:\n",
      "X_train_1 shape: (630, 150)\n",
      "X_test_1 shape: (70, 150)\n",
      "y_train_1 shape: (630,)\n",
      "y_test_1 shape: (70,)\n",
      "X_external_1 shape: (177, 150)\n",
      "y_external_1 shape: (177,)\n",
      "\n",
      "Group 2:\n",
      "X_train_2 shape: (630, 84)\n",
      "X_test_2 shape: (70, 84)\n",
      "y_train_2 shape: (630,)\n",
      "y_test_2 shape: (70,)\n",
      "X_external_2 shape: (177, 84)\n",
      "y_external_2 shape: (177,)\n",
      "\n",
      "Group 3:\n",
      "X_train_3 shape: (630, 420)\n",
      "X_test_3 shape: (70, 420)\n",
      "y_train_3 shape: (630,)\n",
      "y_test_3 shape: (70,)\n",
      "X_external_3 shape: (177, 420)\n",
      "y_external_3 shape: (177,)\n"
     ]
    }
   ],
   "source": [
    "# Assuming all variables are defined\n",
    "print(\"Group 1:\")\n",
    "print(f\"X_train_1 shape: {X_train_1.shape}\")\n",
    "print(f\"X_test_1 shape: {X_test_1.shape}\")\n",
    "print(f\"y_train_1 shape: {y_train_1.shape}\")\n",
    "print(f\"y_test_1 shape: {y_test_1.shape}\")\n",
    "print(f\"X_external_1 shape: {X_external_1.shape}\")\n",
    "print(f\"y_external_1 shape: {y_external_1.shape}\")\n",
    "\n",
    "print(\"\\nGroup 2:\")\n",
    "print(f\"X_train_2 shape: {X_train_2.shape}\")\n",
    "print(f\"X_test_2 shape: {X_test_2.shape}\")\n",
    "print(f\"y_train_2 shape: {y_train_2.shape}\")\n",
    "print(f\"y_test_2 shape: {y_test_2.shape}\")\n",
    "print(f\"X_external_2 shape: {X_external_2.shape}\")\n",
    "print(f\"y_external_2 shape: {y_external_2.shape}\")\n",
    "\n",
    "print(\"\\nGroup 3:\")\n",
    "print(f\"X_train_3 shape: {X_train_3.shape}\")\n",
    "print(f\"X_test_3 shape: {X_test_3.shape}\")\n",
    "print(f\"y_train_3 shape: {y_train_3.shape}\")\n",
    "print(f\"y_test_3 shape: {y_test_3.shape}\")\n",
    "print(f\"X_external_3 shape: {X_external_3.shape}\")\n",
    "print(f\"y_external_3 shape: {y_external_3.shape}\")\n"
   ]
  },
  {
   "cell_type": "code",
   "execution_count": 7,
   "id": "bfdc0ca7",
   "metadata": {},
   "outputs": [
    {
     "name": "stdout",
     "output_type": "stream",
     "text": [
      "Input shape for Group 1: (150, 1)\n",
      "Input shape for Group 2: (84, 1)\n",
      "Input shape for Group 3: (420, 1)\n"
     ]
    }
   ],
   "source": [
    "# Define the number of features (timesteps) and reshape accordingly\n",
    "def create_input_shape(num_features):\n",
    "    return (num_features, 1)\n",
    "\n",
    "# Dataset 1\n",
    "num_features_1 = X_train_1.shape[1]  # Number of features\n",
    "input_shape_1 = create_input_shape(num_features_1)\n",
    "\n",
    "# Dataset 2\n",
    "num_features_2 = X_train_2.shape[1]  # Number of features\n",
    "input_shape_2 = create_input_shape(num_features_2)\n",
    "\n",
    "# Dataset 3\n",
    "num_features_3 = X_train_3.shape[1]  # Number of features\n",
    "input_shape_3 = create_input_shape(num_features_3)\n",
    "\n",
    "# Print input shapes\n",
    "print(f\"Input shape for Group 1: {input_shape_1}\")\n",
    "print(f\"Input shape for Group 2: {input_shape_2}\")\n",
    "print(f\"Input shape for Group 3: {input_shape_3}\")\n",
    "\n"
   ]
  },
  {
   "cell_type": "code",
   "execution_count": null,
   "id": "72b101b9",
   "metadata": {},
   "outputs": [],
   "source": []
  },
  {
   "cell_type": "code",
   "execution_count": null,
   "id": "0766a1a3",
   "metadata": {},
   "outputs": [],
   "source": []
  },
  {
   "cell_type": "code",
   "execution_count": null,
   "id": "57748e3e",
   "metadata": {},
   "outputs": [],
   "source": []
  },
  {
   "cell_type": "code",
   "execution_count": null,
   "id": "aa72f228",
   "metadata": {},
   "outputs": [],
   "source": []
  },
  {
   "cell_type": "code",
   "execution_count": 20,
   "id": "0fd4e3fe",
   "metadata": {},
   "outputs": [],
   "source": [
    "#Complie this part after compilation of all 6CNNs and 36 branch classifiers.\n",
    "\n",
    "# Define the models with the correct input shapes for each group\n",
    "models_group_1 = [\n",
    "    model1, model1c1, model1c2, model1c3, model1c4,\n",
    "    model2, model2c1, model2c2, model2c3, model2c4, model2c5, model2c6\n",
    "]\n",
    "\n",
    "models_group_2 = [\n",
    "    model3, model3c1, model3c2, model3c3, model3c4,\n",
    "    model4, model4c1, model4c2, model4c3, model4c4, model4c5, model4c6\n",
    "]\n",
    "\n",
    "models_group_3 = [\n",
    "    model5, model5c1, model5c2, model5c3, model5c4,\n",
    "    model6, model6c1, model6c2, model6c3, model6c4, model6c5, model6c6\n",
    "]\n",
    "\n",
    "# Combine all models\n",
    "models = models_group_1 + models_group_2 + models_group_3\n",
    "\n"
   ]
  },
  {
   "cell_type": "code",
   "execution_count": null,
   "id": "4c248021",
   "metadata": {},
   "outputs": [],
   "source": []
  },
  {
   "cell_type": "code",
   "execution_count": 21,
   "id": "1c358251",
   "metadata": {
    "scrolled": true
   },
   "outputs": [
    {
     "name": "stdout",
     "output_type": "stream",
     "text": [
      "(70, 150)\n",
      "(70, 84)\n",
      "(70, 420)\n",
      "(177, 150)\n",
      "(177, 84)\n",
      "(177, 420)\n",
      "(70,)\n",
      "(70,)\n",
      "(70,)\n",
      "(177,)\n",
      "(177,)\n",
      "(177,)\n"
     ]
    }
   ],
   "source": [
    "print(X_test_1.shape)\n",
    "print(X_test_2.shape)\n",
    "print(X_test_3.shape)\n",
    "print(X_external_1.shape)\n",
    "print(X_external_2.shape)\n",
    "print(X_external_3.shape)\n",
    "print(y_test_1.shape)\n",
    "print(y_test_2.shape)\n",
    "print(y_test_3.shape)\n",
    "print(y_external_1.shape)\n",
    "print(y_external_2.shape)\n",
    "print(y_external_3.shape)\n"
   ]
  },
  {
   "cell_type": "code",
   "execution_count": null,
   "id": "90f81f71",
   "metadata": {},
   "outputs": [],
   "source": []
  },
  {
   "cell_type": "code",
   "execution_count": null,
   "id": "c0fc3806",
   "metadata": {},
   "outputs": [],
   "source": []
  },
  {
   "cell_type": "code",
   "execution_count": null,
   "id": "bb57047c",
   "metadata": {},
   "outputs": [],
   "source": []
  },
  {
   "cell_type": "code",
   "execution_count": null,
   "id": "b3c43ecb",
   "metadata": {},
   "outputs": [],
   "source": []
  },
  {
   "cell_type": "code",
   "execution_count": null,
   "id": "b4bd7ab5",
   "metadata": {},
   "outputs": [],
   "source": []
  },
  {
   "cell_type": "code",
   "execution_count": null,
   "id": "27f5a060",
   "metadata": {},
   "outputs": [],
   "source": []
  },
  {
   "cell_type": "code",
   "execution_count": null,
   "id": "2e65acd9",
   "metadata": {},
   "outputs": [],
   "source": []
  },
  {
   "cell_type": "code",
   "execution_count": null,
   "id": "dc0e5b68",
   "metadata": {},
   "outputs": [],
   "source": []
  },
  {
   "cell_type": "code",
   "execution_count": null,
   "id": "c0847fa0",
   "metadata": {},
   "outputs": [],
   "source": []
  },
  {
   "cell_type": "code",
   "execution_count": null,
   "id": "f6b86d26",
   "metadata": {},
   "outputs": [],
   "source": []
  },
  {
   "cell_type": "code",
   "execution_count": null,
   "id": "128c7b9a",
   "metadata": {},
   "outputs": [],
   "source": []
  },
  {
   "cell_type": "code",
   "execution_count": null,
   "id": "b56310cd",
   "metadata": {},
   "outputs": [],
   "source": []
  },
  {
   "cell_type": "code",
   "execution_count": null,
   "id": "5debb828",
   "metadata": {},
   "outputs": [],
   "source": []
  },
  {
   "cell_type": "code",
   "execution_count": null,
   "id": "ec8c326a",
   "metadata": {},
   "outputs": [],
   "source": []
  },
  {
   "cell_type": "code",
   "execution_count": null,
   "id": "49a3e259",
   "metadata": {},
   "outputs": [],
   "source": []
  },
  {
   "cell_type": "code",
   "execution_count": null,
   "id": "7ffb9884",
   "metadata": {},
   "outputs": [],
   "source": [
    "\n"
   ]
  },
  {
   "cell_type": "code",
   "execution_count": null,
   "id": "731e90db",
   "metadata": {},
   "outputs": [],
   "source": []
  },
  {
   "cell_type": "code",
   "execution_count": null,
   "id": "1a0be252",
   "metadata": {},
   "outputs": [],
   "source": []
  },
  {
   "cell_type": "code",
   "execution_count": null,
   "id": "e38e7086",
   "metadata": {},
   "outputs": [],
   "source": []
  },
  {
   "cell_type": "code",
   "execution_count": null,
   "id": "996da4a5",
   "metadata": {},
   "outputs": [],
   "source": []
  },
  {
   "cell_type": "code",
   "execution_count": null,
   "id": "a30c0613",
   "metadata": {},
   "outputs": [],
   "source": []
  },
  {
   "cell_type": "code",
   "execution_count": null,
   "id": "f346caa5",
   "metadata": {},
   "outputs": [],
   "source": []
  },
  {
   "cell_type": "code",
   "execution_count": null,
   "id": "1ef6c75f",
   "metadata": {},
   "outputs": [],
   "source": []
  },
  {
   "cell_type": "code",
   "execution_count": null,
   "id": "f6febd4e",
   "metadata": {},
   "outputs": [],
   "source": []
  },
  {
   "cell_type": "code",
   "execution_count": null,
   "id": "f6f12c63",
   "metadata": {},
   "outputs": [],
   "source": []
  },
  {
   "cell_type": "code",
   "execution_count": null,
   "id": "e1979528",
   "metadata": {},
   "outputs": [],
   "source": []
  },
  {
   "cell_type": "code",
   "execution_count": null,
   "id": "ba69d298",
   "metadata": {},
   "outputs": [],
   "source": []
  },
  {
   "cell_type": "code",
   "execution_count": null,
   "id": "41a7f539",
   "metadata": {},
   "outputs": [],
   "source": []
  },
  {
   "cell_type": "code",
   "execution_count": null,
   "id": "ac54270c",
   "metadata": {},
   "outputs": [],
   "source": []
  },
  {
   "cell_type": "code",
   "execution_count": null,
   "id": "442a710e",
   "metadata": {},
   "outputs": [],
   "source": []
  },
  {
   "cell_type": "code",
   "execution_count": null,
   "id": "6faf620b",
   "metadata": {},
   "outputs": [],
   "source": []
  },
  {
   "cell_type": "code",
   "execution_count": null,
   "id": "9255e747",
   "metadata": {},
   "outputs": [],
   "source": []
  },
  {
   "cell_type": "code",
   "execution_count": null,
   "id": "58bbd03d",
   "metadata": {},
   "outputs": [],
   "source": []
  },
  {
   "cell_type": "code",
   "execution_count": null,
   "id": "aab2b68b",
   "metadata": {},
   "outputs": [],
   "source": []
  },
  {
   "cell_type": "code",
   "execution_count": null,
   "id": "b17568cf",
   "metadata": {},
   "outputs": [],
   "source": []
  },
  {
   "cell_type": "code",
   "execution_count": null,
   "id": "96e6a8bd",
   "metadata": {},
   "outputs": [],
   "source": []
  },
  {
   "cell_type": "code",
   "execution_count": null,
   "id": "ec415182",
   "metadata": {},
   "outputs": [],
   "source": []
  },
  {
   "cell_type": "code",
   "execution_count": null,
   "id": "0a5cd3dd",
   "metadata": {},
   "outputs": [],
   "source": []
  },
  {
   "cell_type": "code",
   "execution_count": null,
   "id": "524556d9",
   "metadata": {},
   "outputs": [],
   "source": []
  },
  {
   "cell_type": "code",
   "execution_count": null,
   "id": "b6474e22",
   "metadata": {},
   "outputs": [],
   "source": []
  },
  {
   "cell_type": "code",
   "execution_count": null,
   "id": "e72aea0d",
   "metadata": {},
   "outputs": [],
   "source": []
  },
  {
   "cell_type": "code",
   "execution_count": null,
   "id": "cfca1916",
   "metadata": {},
   "outputs": [],
   "source": []
  },
  {
   "cell_type": "code",
   "execution_count": null,
   "id": "6327e692",
   "metadata": {},
   "outputs": [],
   "source": []
  },
  {
   "cell_type": "code",
   "execution_count": null,
   "id": "320754f0",
   "metadata": {},
   "outputs": [],
   "source": []
  },
  {
   "cell_type": "code",
   "execution_count": null,
   "id": "c753bfe2",
   "metadata": {},
   "outputs": [],
   "source": []
  },
  {
   "cell_type": "code",
   "execution_count": null,
   "id": "a9f40684",
   "metadata": {},
   "outputs": [],
   "source": []
  },
  {
   "cell_type": "code",
   "execution_count": null,
   "id": "b42a0ff3",
   "metadata": {},
   "outputs": [],
   "source": []
  },
  {
   "cell_type": "code",
   "execution_count": null,
   "id": "d782f9ab",
   "metadata": {},
   "outputs": [],
   "source": []
  },
  {
   "cell_type": "code",
   "execution_count": null,
   "id": "d3bf4b2b",
   "metadata": {},
   "outputs": [],
   "source": []
  },
  {
   "cell_type": "code",
   "execution_count": null,
   "id": "9e0c9c46",
   "metadata": {},
   "outputs": [],
   "source": []
  },
  {
   "cell_type": "code",
   "execution_count": null,
   "id": "5762144e",
   "metadata": {},
   "outputs": [],
   "source": []
  },
  {
   "cell_type": "code",
   "execution_count": null,
   "id": "f73d73d8",
   "metadata": {},
   "outputs": [],
   "source": []
  },
  {
   "cell_type": "code",
   "execution_count": null,
   "id": "759c7425",
   "metadata": {},
   "outputs": [],
   "source": []
  },
  {
   "cell_type": "code",
   "execution_count": null,
   "id": "b1db5805",
   "metadata": {},
   "outputs": [],
   "source": []
  },
  {
   "cell_type": "code",
   "execution_count": null,
   "id": "ea75fda7",
   "metadata": {},
   "outputs": [],
   "source": []
  },
  {
   "cell_type": "code",
   "execution_count": null,
   "id": "819067a7",
   "metadata": {},
   "outputs": [],
   "source": []
  },
  {
   "cell_type": "code",
   "execution_count": null,
   "id": "fdebb7f6",
   "metadata": {},
   "outputs": [],
   "source": []
  },
  {
   "cell_type": "code",
   "execution_count": null,
   "id": "e4a3fd26",
   "metadata": {},
   "outputs": [],
   "source": []
  },
  {
   "cell_type": "code",
   "execution_count": null,
   "id": "a68bb13c",
   "metadata": {},
   "outputs": [],
   "source": []
  },
  {
   "cell_type": "code",
   "execution_count": null,
   "id": "9f2b4c3d",
   "metadata": {},
   "outputs": [],
   "source": []
  },
  {
   "cell_type": "code",
   "execution_count": null,
   "id": "8700a52f",
   "metadata": {},
   "outputs": [],
   "source": []
  },
  {
   "cell_type": "code",
   "execution_count": null,
   "id": "70554292",
   "metadata": {},
   "outputs": [],
   "source": []
  },
  {
   "cell_type": "code",
   "execution_count": null,
   "id": "513f4829",
   "metadata": {},
   "outputs": [],
   "source": []
  },
  {
   "cell_type": "code",
   "execution_count": null,
   "id": "f5a75a4c",
   "metadata": {},
   "outputs": [],
   "source": []
  },
  {
   "cell_type": "code",
   "execution_count": null,
   "id": "b15a25aa",
   "metadata": {},
   "outputs": [],
   "source": []
  },
  {
   "cell_type": "code",
   "execution_count": null,
   "id": "1f035770",
   "metadata": {},
   "outputs": [],
   "source": []
  },
  {
   "cell_type": "code",
   "execution_count": null,
   "id": "6f0fb717",
   "metadata": {},
   "outputs": [],
   "source": []
  },
  {
   "cell_type": "code",
   "execution_count": null,
   "id": "08f4eaa7",
   "metadata": {},
   "outputs": [],
   "source": []
  },
  {
   "cell_type": "code",
   "execution_count": null,
   "id": "1f8caa4a",
   "metadata": {},
   "outputs": [],
   "source": []
  },
  {
   "cell_type": "code",
   "execution_count": null,
   "id": "39844c6e",
   "metadata": {},
   "outputs": [],
   "source": []
  },
  {
   "cell_type": "code",
   "execution_count": null,
   "id": "0b9bef3e",
   "metadata": {},
   "outputs": [],
   "source": []
  },
  {
   "cell_type": "code",
   "execution_count": null,
   "id": "377c4941",
   "metadata": {},
   "outputs": [],
   "source": []
  },
  {
   "cell_type": "code",
   "execution_count": null,
   "id": "17d25443",
   "metadata": {},
   "outputs": [],
   "source": []
  },
  {
   "cell_type": "code",
   "execution_count": null,
   "id": "6bf32bd3",
   "metadata": {},
   "outputs": [],
   "source": []
  }
 ],
 "metadata": {
  "kernelspec": {
   "display_name": "Python 3 (ipykernel)",
   "language": "python",
   "name": "python3"
  },
  "language_info": {
   "codemirror_mode": {
    "name": "ipython",
    "version": 3
   },
   "file_extension": ".py",
   "mimetype": "text/x-python",
   "name": "python",
   "nbconvert_exporter": "python",
   "pygments_lexer": "ipython3",
   "version": "3.9.16"
  }
 },
 "nbformat": 4,
 "nbformat_minor": 5
}
