{
 "cells": [
  {
   "cell_type": "code",
   "execution_count": 8,
   "id": "c897b959",
   "metadata": {},
   "outputs": [
    {
     "name": "stderr",
     "output_type": "stream",
     "text": [
      "C:\\Users\\lenovo\\Anaconda3\\envs\\tf\\lib\\site-packages\\keras\\src\\layers\\convolutional\\base_conv.py:107: UserWarning: Do not pass an `input_shape`/`input_dim` argument to a layer. When using Sequential models, prefer using an `Input(shape)` object as the first layer in the model instead.\n",
      "  super().__init__(activity_regularizer=activity_regularizer, **kwargs)\n"
     ]
    }
   ],
   "source": [
    "#model1 represents -CNN1 (Architecture1)\n",
    "# Initialize the model correctly\n",
    "model1 = Sequential()\n",
    "\n",
    "# Adding multiple Conv1D layers\n",
    "model1.add(Conv1D(64, kernel_size=3, strides=1, padding='same', activation='relu', input_shape=input_shape_1))\n",
    "model1.add(BatchNormalization())\n",
    "\n",
    "model1.add(Conv1D(128, kernel_size=5, strides=1, padding='same', activation='relu'))\n",
    "model1.add(BatchNormalization())\n",
    "model1.add(Conv1D(256, kernel_size=3, strides=1, padding='same', activation='relu'))\n",
    "model1.add(Conv1D(256, kernel_size=3, strides=1, padding='same', activation='relu'))\n",
    "model1.add(Conv1D(256, kernel_size=3, strides=1, padding='same', activation='relu'))\n",
    "model1.add(BatchNormalization())\n",
    "model1.add(Dropout(0.5))\n",
    "\n",
    "# Adding Dense layers with regularization\n",
    "model1.add(Flatten())\n",
    "model1.add(Dense(512, activation='relu', kernel_regularizer=tf.keras.regularizers.l2(0.01)))\n",
    "model1.add(Dropout(0.4))  # Adjusted Dropout rate\n",
    "\n",
    "model1.add(Dense(1, activation='sigmoid'))\n",
    "\n",
    "# Compile with Adam optimizer\n",
    "model1.compile(optimizer=Adam(learning_rate=0.001), loss='binary_crossentropy', metrics=['accuracy'])\n",
    "\n",
    "# Define callbacks\n",
    "reduce_lr = ReduceLROnPlateau(monitor='val_loss', factor=0.5, patience=5, min_lr=1e-6, verbose=1)\n",
    "early_stopping = EarlyStopping(monitor='val_loss', patience=20, restore_best_weights=True, verbose=1)\n",
    "\n"
   ]
  },
  {
   "cell_type": "code",
   "execution_count": null,
   "id": "cb2333e9",
   "metadata": {},
   "outputs": [],
   "source": []
  },
  {
   "cell_type": "code",
   "execution_count": null,
   "id": "334bd20a",
   "metadata": {},
   "outputs": [],
   "source": []
  },
  {
   "cell_type": "code",
   "execution_count": 10,
   "id": "d15d8283",
   "metadata": {},
   "outputs": [],
   "source": [
    "#model2 represents -CNN2 (Architecture2)\n",
    "model2 = Sequential()\n",
    "\n",
    "model2.add(Conv1D(16, kernel_size=3, strides=1, padding='same', activation='relu',input_shape=input_shape_1, kernel_initializer='he_normal'))  # here 128 is no. of filters\n",
    "model2.add(BatchNormalization())   \n",
    "model2.add(MaxPooling1D(pool_size=1))     # 1st pooling layer\n",
    "\n",
    " \n",
    "model2.add(Conv1D(32, kernel_size=3, strides=1, padding='same', activation='relu'))  # here 128 is no. of filters\n",
    "model2.add(BatchNormalization())   \n",
    "model2.add(MaxPooling1D(pool_size=1))     # 1st pooling layer\n",
    "\n",
    "\n",
    "model2.add(Conv1D(32, kernel_size=3, strides=1, padding='same', activation='relu'))  # here 128 is no. of filters\n",
    "model2.add(BatchNormalization())   \n",
    "model2.add(MaxPooling1D(pool_size=1))     # 1st pooling layer\n",
    "\n",
    " \n",
    "model2.add(Conv1D(64, kernel_size=3, strides=1, padding='same', activation='relu'))  # here 128 is no. of filters\n",
    "model2.add(BatchNormalization())   \n",
    "model2.add(MaxPooling1D(pool_size=1))     # 1st pooling layer  \n",
    " \n",
    " \n",
    "model2.add(Conv1D(64, kernel_size=3, strides=1, padding='same', activation='relu'))  # here 128 is no. of filters\n",
    "model2.add(BatchNormalization())   \n",
    "model2.add(MaxPooling1D(pool_size=1))     # 1st pooling layer\n",
    "          \n",
    "\n",
    "model2.add(Conv1D(128, kernel_size=3, strides=1, padding='same', activation='relu'))  # here 128 is no. of filters\n",
    "model2.add(BatchNormalization())   \n",
    "model2.add(MaxPooling1D(pool_size=1))     # 1st pooling layer   \n",
    "\n",
    "\n",
    "model2.add(Conv1D(128, kernel_size=3, strides=1, padding='same', activation='relu'))  # here 128 is no. of filters\n",
    "model2.add(BatchNormalization())   \n",
    "model2.add(MaxPooling1D(pool_size=1))     # 1st pooling layer \n",
    "\n",
    "model2.add(Dropout(0.3))\n",
    "model2.add(Flatten())    #adding Flatten layer\n",
    "                    \n",
    "model2.add(Dense(256,activation='relu', kernel_regularizer=tf.keras.regularizers.l2(0.001)))\n",
    "model2.add(Dense(256,activation='relu', kernel_regularizer=tf.keras.regularizers.l2(0.001)))\n",
    " \n",
    "model2.add(BatchNormalization()) \n",
    "model2.add(Dropout(0.3))\n",
    "model2.add(Dense(512,activation='relu', kernel_regularizer=tf.keras.regularizers.l2(0.001)))\n",
    "model2.add(Dense(512,activation='relu', kernel_regularizer=tf.keras.regularizers.l2(0.001)))\n",
    "\n",
    "#model2.add(BatchNormalization())  \n",
    "model2.add(Dense(1,activation='sigmoid'))\n",
    "\n",
    "# Compile the model\n",
    "model2.compile(optimizer=Adam(learning_rate=0.001), loss='binary_crossentropy', metrics=['accuracy'])\n",
    "\n"
   ]
  },
  {
   "cell_type": "code",
   "execution_count": null,
   "id": "5a717190",
   "metadata": {},
   "outputs": [],
   "source": []
  },
  {
   "cell_type": "code",
   "execution_count": 12,
   "id": "2d807434",
   "metadata": {},
   "outputs": [],
   "source": [
    "#model3 represents -CNN3 (Architecture1)\n",
    "# Initialize the model correctly\n",
    "model3 = Sequential()\n",
    "\n",
    "# Adding multiple Conv1D layers\n",
    "model3.add(Conv1D(64, kernel_size=3, strides=1, padding='same', activation='relu', input_shape=input_shape_2))\n",
    "model3.add(BatchNormalization())\n",
    "\n",
    "model3.add(Conv1D(128, kernel_size=5, strides=1, padding='same', activation='relu'))\n",
    "model3.add(BatchNormalization())\n",
    "\n",
    "model3.add(Conv1D(256, kernel_size=3, strides=1, padding='same', activation='relu'))\n",
    "model3.add(Conv1D(256, kernel_size=3, strides=1, padding='same', activation='relu'))\n",
    "model3.add(Conv1D(256, kernel_size=3, strides=1, padding='same', activation='relu'))\n",
    "model3.add(BatchNormalization())\n",
    "model3.add(Dropout(0.5))\n",
    "\n",
    "# Adding Dense layers with regularization\n",
    "model3.add(Flatten())\n",
    "model3.add(Dense(512, activation='relu', kernel_regularizer=tf.keras.regularizers.l2(0.01)))\n",
    "model3.add(Dropout(0.4))  # Adjusted Dropout rate\n",
    "\n",
    "model3.add(Dense(1, activation='sigmoid'))\n",
    "\n",
    "# Compile with Adam optimizer\n",
    "model3.compile(optimizer=Adam(learning_rate=0.001), loss='binary_crossentropy', metrics=['accuracy'])\n",
    "\n",
    "# Define callbacks\n",
    "reduce_lr = ReduceLROnPlateau(monitor='val_loss', factor=0.5, patience=5, min_lr=1e-6, verbose=1)\n",
    "early_stopping = EarlyStopping(monitor='val_loss', patience=20, restore_best_weights=True, verbose=1)\n",
    "\n"
   ]
  },
  {
   "cell_type": "code",
   "execution_count": null,
   "id": "d6f97d07",
   "metadata": {},
   "outputs": [],
   "source": []
  },
  {
   "cell_type": "code",
   "execution_count": 14,
   "id": "aa2e0cbd",
   "metadata": {},
   "outputs": [],
   "source": [
    "#model4 represents -CNN4 (Architecture2)\n",
    "model4 = Sequential()\n",
    "\n",
    "model4.add(Conv1D(16, kernel_size=3, strides=1, padding='same', activation='relu',input_shape=input_shape_2, kernel_initializer='he_normal'))  # here 128 is no. of filters\n",
    "model4.add(BatchNormalization())   \n",
    "model4.add(MaxPooling1D(pool_size=1))     # 1st pooling layer\n",
    "\n",
    " \n",
    "model4.add(Conv1D(32, kernel_size=3, strides=1, padding='same', activation='relu'))  # here 128 is no. of filters\n",
    "model4.add(BatchNormalization())   \n",
    "model4.add(MaxPooling1D(pool_size=1))     # 1st pooling layer\n",
    "\n",
    "\n",
    "model4.add(Conv1D(32, kernel_size=3, strides=1, padding='same', activation='relu'))  # here 128 is no. of filters\n",
    "model4.add(BatchNormalization())   \n",
    "model4.add(MaxPooling1D(pool_size=1))     # 1st pooling layer\n",
    "\n",
    " \n",
    "model4.add(Conv1D(64, kernel_size=3, strides=1, padding='same', activation='relu'))  # here 128 is no. of filters\n",
    "model4.add(BatchNormalization())   \n",
    "model4.add(MaxPooling1D(pool_size=1))     # 1st pooling layer  \n",
    " \n",
    " \n",
    "model4.add(Conv1D(64, kernel_size=3, strides=1, padding='same', activation='relu'))  # here 128 is no. of filters\n",
    "model4.add(BatchNormalization())   \n",
    "model4.add(MaxPooling1D(pool_size=1))     # 1st pooling layer\n",
    "          \n",
    "\n",
    "model4.add(Conv1D(128, kernel_size=3, strides=1, padding='same', activation='relu'))  # here 128 is no. of filters\n",
    "model4.add(BatchNormalization())   \n",
    "model4.add(MaxPooling1D(pool_size=1))     # 1st pooling layer   \n",
    "\n",
    "\n",
    "model4.add(Conv1D(128, kernel_size=3, strides=1, padding='same', activation='relu'))  # here 128 is no. of filters\n",
    "model4.add(BatchNormalization())   \n",
    "model4.add(MaxPooling1D(pool_size=1))     # 1st pooling layer \n",
    "\n",
    "model4.add(Dropout(0.3))\n",
    "model4.add(Flatten())    #adding Flatten layer\n",
    "                    \n",
    "model4.add(Dense(256,activation='relu', kernel_regularizer=tf.keras.regularizers.l2(0.001)))\n",
    "model4.add(Dense(256,activation='relu', kernel_regularizer=tf.keras.regularizers.l2(0.001)))\n",
    " \n",
    "model4.add(BatchNormalization()) \n",
    "model4.add(Dropout(0.3))\n",
    "model4.add(Dense(512,activation='relu', kernel_regularizer=tf.keras.regularizers.l2(0.001)))\n",
    "model4.add(Dense(512,activation='relu', kernel_regularizer=tf.keras.regularizers.l2(0.001)))\n",
    "\n",
    "#model2.add(BatchNormalization())  \n",
    "model4.add(Dense(1,activation='sigmoid'))\n",
    "\n",
    "# Compile the model\n",
    "model4.compile(optimizer=Adam(learning_rate=0.001), loss='binary_crossentropy', metrics=['accuracy'])\n",
    "\n"
   ]
  },
  {
   "cell_type": "code",
   "execution_count": null,
   "id": "774a0e8f",
   "metadata": {},
   "outputs": [],
   "source": []
  },
  {
   "cell_type": "code",
   "execution_count": 16,
   "id": "b4cba3c2",
   "metadata": {},
   "outputs": [],
   "source": [
    "#model5 represents -CNN5 (Architecture1)\n",
    "# Initialize the model correctly\n",
    "model5 = Sequential()\n",
    "\n",
    "# Adding multiple Conv1D layers\n",
    "model5.add(Conv1D(64, kernel_size=3, strides=1, padding='same', activation='relu', input_shape=input_shape_3))\n",
    "model5.add(BatchNormalization())\n",
    "\n",
    "model5.add(Conv1D(128, kernel_size=5, strides=1, padding='same', activation='relu'))\n",
    "model5.add(BatchNormalization())\n",
    "\n",
    "model5.add(Conv1D(256, kernel_size=3, strides=1, padding='same', activation='relu'))\n",
    "model5.add(Conv1D(256, kernel_size=3, strides=1, padding='same', activation='relu'))\n",
    "model5.add(Conv1D(256, kernel_size=3, strides=1, padding='same', activation='relu'))\n",
    "model5.add(BatchNormalization())\n",
    "model5.add(Dropout(0.5))\n",
    "\n",
    "# Adding Dense layers with regularization\n",
    "model5.add(Flatten())\n",
    "model5.add(Dense(512, activation='relu', kernel_regularizer=tf.keras.regularizers.l2(0.01)))\n",
    "model5.add(Dropout(0.4))  # Adjusted Dropout rate\n",
    "\n",
    "model5.add(Dense(1, activation='sigmoid'))\n",
    "\n",
    "# Compile with Adam optimizer\n",
    "model5.compile(optimizer=Adam(learning_rate=0.001), loss='binary_crossentropy', metrics=['accuracy'])\n",
    "\n",
    "# Define callbacks\n",
    "reduce_lr = ReduceLROnPlateau(monitor='val_loss', factor=0.5, patience=5, min_lr=1e-6, verbose=1)\n",
    "early_stopping = EarlyStopping(monitor='val_loss', patience=20, restore_best_weights=True, verbose=1)\n",
    "\n"
   ]
  },
  {
   "cell_type": "code",
   "execution_count": null,
   "id": "429a2697",
   "metadata": {},
   "outputs": [],
   "source": []
  },
  {
   "cell_type": "code",
   "execution_count": null,
   "id": "09b0f1b0",
   "metadata": {},
   "outputs": [],
   "source": [
    "#model6 represents -CNN6 (Architecture2)\n",
    "model6 = Sequential()\n",
    "\n",
    "model6.add(Conv1D(16, kernel_size=3, strides=1, padding='same', activation='relu',input_shape=input_shape_3, kernel_initializer='he_normal'))  # here 128 is no. of filters\n",
    "model6.add(BatchNormalization())   \n",
    "model6.add(MaxPooling1D(pool_size=1))     # 1st pooling layer\n",
    "\n",
    " \n",
    "model6.add(Conv1D(32, kernel_size=3, strides=1, padding='same', activation='relu'))  # here 128 is no. of filters\n",
    "model6.add(BatchNormalization())   \n",
    "model6.add(MaxPooling1D(pool_size=1))     # 1st pooling layer\n",
    "\n",
    "\n",
    "model6.add(Conv1D(32, kernel_size=3, strides=1, padding='same', activation='relu'))  # here 128 is no. of filters\n",
    "model6.add(BatchNormalization())   \n",
    "model6.add(MaxPooling1D(pool_size=1))     # 1st pooling layer\n",
    "\n",
    " \n",
    "model6.add(Conv1D(64, kernel_size=3, strides=1, padding='same', activation='relu'))  # here 128 is no. of filters\n",
    "model6.add(BatchNormalization())   \n",
    "model6.add(MaxPooling1D(pool_size=1))     # 1st pooling layer  \n",
    " \n",
    " \n",
    "model6.add(Conv1D(64, kernel_size=3, strides=1, padding='same', activation='relu'))  # here 128 is no. of filters\n",
    "model6.add(BatchNormalization())   \n",
    "model6.add(MaxPooling1D(pool_size=1))     # 1st pooling layer\n",
    "          \n",
    "\n",
    "model6.add(Conv1D(128, kernel_size=3, strides=1, padding='same', activation='relu'))  # here 128 is no. of filters\n",
    "model6.add(BatchNormalization())   \n",
    "model6.add(MaxPooling1D(pool_size=1))     # 1st pooling layer   \n",
    "\n",
    "\n",
    "model6.add(Conv1D(128, kernel_size=3, strides=1, padding='same', activation='relu'))  # here 128 is no. of filters\n",
    "model6.add(BatchNormalization())   \n",
    "model6.add(MaxPooling1D(pool_size=1))     # 1st pooling layer \n",
    "\n",
    "model6.add(Dropout(0.3))\n",
    "model6.add(Flatten())    #adding Flatten layer\n",
    "                    \n",
    "model6.add(Dense(256,activation='relu', kernel_regularizer=tf.keras.regularizers.l2(0.001)))\n",
    "model6.add(Dense(256,activation='relu', kernel_regularizer=tf.keras.regularizers.l2(0.001)))\n",
    " \n",
    "model6.add(BatchNormalization()) \n",
    "model6.add(Dropout(0.3))\n",
    "model6.add(Dense(512,activation='relu', kernel_regularizer=tf.keras.regularizers.l2(0.001)))\n",
    "model6.add(Dense(512,activation='relu', kernel_regularizer=tf.keras.regularizers.l2(0.001)))\n",
    "\n",
    "#model2.add(BatchNormalization())  \n",
    "model6.add(Dense(1,activation='sigmoid'))\n",
    "\n",
    "# Compile the model\n",
    "model6.compile(optimizer=Adam(learning_rate=0.001), loss='binary_crossentropy', metrics=['accuracy'])\n",
    "\n"
   ]
  },
  {
   "cell_type": "code",
   "execution_count": null,
   "id": "ca3814ad",
   "metadata": {},
   "outputs": [],
   "source": []
  },
  {
   "cell_type": "code",
   "execution_count": null,
   "id": "b3c43ecb",
   "metadata": {},
   "outputs": [],
   "source": []
  },
  {
   "cell_type": "code",
   "execution_count": null,
   "id": "b4bd7ab5",
   "metadata": {},
   "outputs": [],
   "source": []
  },
  {
   "cell_type": "code",
   "execution_count": null,
   "id": "27f5a060",
   "metadata": {},
   "outputs": [],
   "source": []
  },
  {
   "cell_type": "code",
   "execution_count": null,
   "id": "2e65acd9",
   "metadata": {},
   "outputs": [],
   "source": []
  },
  {
   "cell_type": "code",
   "execution_count": null,
   "id": "dc0e5b68",
   "metadata": {},
   "outputs": [],
   "source": []
  },
  {
   "cell_type": "code",
   "execution_count": null,
   "id": "c0847fa0",
   "metadata": {},
   "outputs": [],
   "source": []
  },
  {
   "cell_type": "code",
   "execution_count": null,
   "id": "f6b86d26",
   "metadata": {},
   "outputs": [],
   "source": []
  },
  {
   "cell_type": "code",
   "execution_count": null,
   "id": "128c7b9a",
   "metadata": {},
   "outputs": [],
   "source": []
  },
  {
   "cell_type": "code",
   "execution_count": null,
   "id": "b56310cd",
   "metadata": {},
   "outputs": [],
   "source": []
  },
  {
   "cell_type": "code",
   "execution_count": null,
   "id": "5debb828",
   "metadata": {},
   "outputs": [],
   "source": []
  },
  {
   "cell_type": "code",
   "execution_count": null,
   "id": "ec8c326a",
   "metadata": {},
   "outputs": [],
   "source": []
  },
  {
   "cell_type": "code",
   "execution_count": null,
   "id": "49a3e259",
   "metadata": {},
   "outputs": [],
   "source": []
  },
  {
   "cell_type": "code",
   "execution_count": null,
   "id": "7ffb9884",
   "metadata": {},
   "outputs": [],
   "source": [
    "\n"
   ]
  },
  {
   "cell_type": "code",
   "execution_count": null,
   "id": "731e90db",
   "metadata": {},
   "outputs": [],
   "source": []
  },
  {
   "cell_type": "code",
   "execution_count": null,
   "id": "1a0be252",
   "metadata": {},
   "outputs": [],
   "source": []
  },
  {
   "cell_type": "code",
   "execution_count": null,
   "id": "e38e7086",
   "metadata": {},
   "outputs": [],
   "source": []
  },
  {
   "cell_type": "code",
   "execution_count": null,
   "id": "996da4a5",
   "metadata": {},
   "outputs": [],
   "source": []
  },
  {
   "cell_type": "code",
   "execution_count": null,
   "id": "a30c0613",
   "metadata": {},
   "outputs": [],
   "source": []
  },
  {
   "cell_type": "code",
   "execution_count": null,
   "id": "f346caa5",
   "metadata": {},
   "outputs": [],
   "source": []
  },
  {
   "cell_type": "code",
   "execution_count": null,
   "id": "1ef6c75f",
   "metadata": {},
   "outputs": [],
   "source": []
  },
  {
   "cell_type": "code",
   "execution_count": null,
   "id": "f6febd4e",
   "metadata": {},
   "outputs": [],
   "source": []
  },
  {
   "cell_type": "code",
   "execution_count": null,
   "id": "f6f12c63",
   "metadata": {},
   "outputs": [],
   "source": []
  },
  {
   "cell_type": "code",
   "execution_count": null,
   "id": "e1979528",
   "metadata": {},
   "outputs": [],
   "source": []
  },
  {
   "cell_type": "code",
   "execution_count": null,
   "id": "ba69d298",
   "metadata": {},
   "outputs": [],
   "source": []
  },
  {
   "cell_type": "code",
   "execution_count": null,
   "id": "41a7f539",
   "metadata": {},
   "outputs": [],
   "source": []
  },
  {
   "cell_type": "code",
   "execution_count": null,
   "id": "ac54270c",
   "metadata": {},
   "outputs": [],
   "source": []
  },
  {
   "cell_type": "code",
   "execution_count": null,
   "id": "442a710e",
   "metadata": {},
   "outputs": [],
   "source": []
  },
  {
   "cell_type": "code",
   "execution_count": null,
   "id": "6faf620b",
   "metadata": {},
   "outputs": [],
   "source": []
  },
  {
   "cell_type": "code",
   "execution_count": null,
   "id": "9255e747",
   "metadata": {},
   "outputs": [],
   "source": []
  },
  {
   "cell_type": "code",
   "execution_count": null,
   "id": "58bbd03d",
   "metadata": {},
   "outputs": [],
   "source": []
  },
  {
   "cell_type": "code",
   "execution_count": null,
   "id": "aab2b68b",
   "metadata": {},
   "outputs": [],
   "source": []
  },
  {
   "cell_type": "code",
   "execution_count": null,
   "id": "b17568cf",
   "metadata": {},
   "outputs": [],
   "source": []
  },
  {
   "cell_type": "code",
   "execution_count": null,
   "id": "96e6a8bd",
   "metadata": {},
   "outputs": [],
   "source": []
  },
  {
   "cell_type": "code",
   "execution_count": null,
   "id": "ec415182",
   "metadata": {},
   "outputs": [],
   "source": []
  },
  {
   "cell_type": "code",
   "execution_count": null,
   "id": "0a5cd3dd",
   "metadata": {},
   "outputs": [],
   "source": []
  },
  {
   "cell_type": "code",
   "execution_count": null,
   "id": "524556d9",
   "metadata": {},
   "outputs": [],
   "source": []
  },
  {
   "cell_type": "code",
   "execution_count": null,
   "id": "b6474e22",
   "metadata": {},
   "outputs": [],
   "source": []
  },
  {
   "cell_type": "code",
   "execution_count": null,
   "id": "e72aea0d",
   "metadata": {},
   "outputs": [],
   "source": []
  },
  {
   "cell_type": "code",
   "execution_count": null,
   "id": "cfca1916",
   "metadata": {},
   "outputs": [],
   "source": []
  },
  {
   "cell_type": "code",
   "execution_count": null,
   "id": "6327e692",
   "metadata": {},
   "outputs": [],
   "source": []
  },
  {
   "cell_type": "code",
   "execution_count": null,
   "id": "320754f0",
   "metadata": {},
   "outputs": [],
   "source": []
  },
  {
   "cell_type": "code",
   "execution_count": null,
   "id": "c753bfe2",
   "metadata": {},
   "outputs": [],
   "source": []
  },
  {
   "cell_type": "code",
   "execution_count": null,
   "id": "a9f40684",
   "metadata": {},
   "outputs": [],
   "source": []
  },
  {
   "cell_type": "code",
   "execution_count": null,
   "id": "b42a0ff3",
   "metadata": {},
   "outputs": [],
   "source": []
  },
  {
   "cell_type": "code",
   "execution_count": null,
   "id": "d782f9ab",
   "metadata": {},
   "outputs": [],
   "source": []
  },
  {
   "cell_type": "code",
   "execution_count": null,
   "id": "d3bf4b2b",
   "metadata": {},
   "outputs": [],
   "source": []
  },
  {
   "cell_type": "code",
   "execution_count": null,
   "id": "9e0c9c46",
   "metadata": {},
   "outputs": [],
   "source": []
  },
  {
   "cell_type": "code",
   "execution_count": null,
   "id": "5762144e",
   "metadata": {},
   "outputs": [],
   "source": []
  },
  {
   "cell_type": "code",
   "execution_count": null,
   "id": "f73d73d8",
   "metadata": {},
   "outputs": [],
   "source": []
  },
  {
   "cell_type": "code",
   "execution_count": null,
   "id": "759c7425",
   "metadata": {},
   "outputs": [],
   "source": []
  },
  {
   "cell_type": "code",
   "execution_count": null,
   "id": "b1db5805",
   "metadata": {},
   "outputs": [],
   "source": []
  },
  {
   "cell_type": "code",
   "execution_count": null,
   "id": "ea75fda7",
   "metadata": {},
   "outputs": [],
   "source": []
  },
  {
   "cell_type": "code",
   "execution_count": null,
   "id": "819067a7",
   "metadata": {},
   "outputs": [],
   "source": []
  },
  {
   "cell_type": "code",
   "execution_count": null,
   "id": "fdebb7f6",
   "metadata": {},
   "outputs": [],
   "source": []
  },
  {
   "cell_type": "code",
   "execution_count": null,
   "id": "e4a3fd26",
   "metadata": {},
   "outputs": [],
   "source": []
  },
  {
   "cell_type": "code",
   "execution_count": null,
   "id": "a68bb13c",
   "metadata": {},
   "outputs": [],
   "source": []
  },
  {
   "cell_type": "code",
   "execution_count": null,
   "id": "9f2b4c3d",
   "metadata": {},
   "outputs": [],
   "source": []
  },
  {
   "cell_type": "code",
   "execution_count": null,
   "id": "8700a52f",
   "metadata": {},
   "outputs": [],
   "source": []
  },
  {
   "cell_type": "code",
   "execution_count": null,
   "id": "70554292",
   "metadata": {},
   "outputs": [],
   "source": []
  },
  {
   "cell_type": "code",
   "execution_count": null,
   "id": "513f4829",
   "metadata": {},
   "outputs": [],
   "source": []
  },
  {
   "cell_type": "code",
   "execution_count": null,
   "id": "f5a75a4c",
   "metadata": {},
   "outputs": [],
   "source": []
  },
  {
   "cell_type": "code",
   "execution_count": null,
   "id": "b15a25aa",
   "metadata": {},
   "outputs": [],
   "source": []
  },
  {
   "cell_type": "code",
   "execution_count": null,
   "id": "1f035770",
   "metadata": {},
   "outputs": [],
   "source": []
  },
  {
   "cell_type": "code",
   "execution_count": null,
   "id": "6f0fb717",
   "metadata": {},
   "outputs": [],
   "source": []
  },
  {
   "cell_type": "code",
   "execution_count": null,
   "id": "08f4eaa7",
   "metadata": {},
   "outputs": [],
   "source": []
  },
  {
   "cell_type": "code",
   "execution_count": null,
   "id": "1f8caa4a",
   "metadata": {},
   "outputs": [],
   "source": []
  },
  {
   "cell_type": "code",
   "execution_count": null,
   "id": "39844c6e",
   "metadata": {},
   "outputs": [],
   "source": []
  },
  {
   "cell_type": "code",
   "execution_count": null,
   "id": "0b9bef3e",
   "metadata": {},
   "outputs": [],
   "source": []
  },
  {
   "cell_type": "code",
   "execution_count": null,
   "id": "377c4941",
   "metadata": {},
   "outputs": [],
   "source": []
  },
  {
   "cell_type": "code",
   "execution_count": null,
   "id": "17d25443",
   "metadata": {},
   "outputs": [],
   "source": []
  },
  {
   "cell_type": "code",
   "execution_count": null,
   "id": "6bf32bd3",
   "metadata": {},
   "outputs": [],
   "source": []
  }
 ],
 "metadata": {
  "kernelspec": {
   "display_name": "Python 3 (ipykernel)",
   "language": "python",
   "name": "python3"
  },
  "language_info": {
   "codemirror_mode": {
    "name": "ipython",
    "version": 3
   },
   "file_extension": ".py",
   "mimetype": "text/x-python",
   "name": "python",
   "nbconvert_exporter": "python",
   "pygments_lexer": "ipython3",
   "version": "3.9.16"
  }
 },
 "nbformat": 4,
 "nbformat_minor": 5
}
